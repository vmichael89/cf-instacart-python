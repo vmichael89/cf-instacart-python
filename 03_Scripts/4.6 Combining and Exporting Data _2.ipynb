{
 "cells": [
  {
   "cell_type": "markdown",
   "id": "90f4a1b6",
   "metadata": {},
   "source": [
    "# Table of Content\n",
    "- [Imports](#imports)\n",
    "- [Resources](#resources)\n",
    "- [Load Data Sets](#load-data-sets)\n",
    "- [Merge Data](#merge-data)\n",
    "- [Export Data](#export-data)\n"
   ]
  },
  {
   "cell_type": "markdown",
   "id": "c1093367",
   "metadata": {},
   "source": [
    "## Imports [#](#table-of-content)"
   ]
  },
  {
   "cell_type": "code",
   "execution_count": 1,
   "id": "084fea8b",
   "metadata": {},
   "outputs": [],
   "source": [
    "import time\n",
    "import os\n",
    "from pathlib import Path\n",
    "\n",
    "import numpy as np\n",
    "import pandas as pd"
   ]
  },
  {
   "attachments": {},
   "cell_type": "markdown",
   "id": "67cf388d",
   "metadata": {},
   "source": [
    "## Resources [#](#table-of-content)"
   ]
  },
  {
   "cell_type": "code",
   "execution_count": 2,
   "id": "17b62c82",
   "metadata": {},
   "outputs": [],
   "source": [
    "# project folder\n",
    "project_folder = Path(r\"C:\\Users\\vynde\\Desktop\\CareerFoundry Data Analytics\\Data Immersion - 4 Python Fundamentals for Data Analysts\\Instacart_Basket_Analysis\")\n",
    "\n",
    "# resource folders\n",
    "original_data_folder = project_folder / \"02_Data\" / \"Original_Data\"\n",
    "prepared_data_folder = project_folder / \"02_Data\" / \"Prepared_Data\"\n",
    "\n",
    "# input files\n",
    "cleaned_products_data_file = prepared_data_folder / \"products_cleaned.csv\"\n",
    "orders_products_combined_data_file = prepared_data_folder / \"orders_products_combined.pkl\"\n",
    "\n",
    "# output files\n",
    "orders_products_merged_data_file = prepared_data_folder / \"orders_products_merged.pkl\""
   ]
  },
  {
   "cell_type": "markdown",
   "id": "e836445e",
   "metadata": {},
   "source": [
    "## Load Data Sets [#](#table-of-content)"
   ]
  },
  {
   "attachments": {},
   "cell_type": "markdown",
   "id": "e8aaf072",
   "metadata": {},
   "source": [
    "Products cleaned"
   ]
  },
  {
   "cell_type": "code",
   "execution_count": 3,
   "id": "65595e51",
   "metadata": {},
   "outputs": [
    {
     "data": {
      "text/html": [
       "<div>\n",
       "<style scoped>\n",
       "    .dataframe tbody tr th:only-of-type {\n",
       "        vertical-align: middle;\n",
       "    }\n",
       "\n",
       "    .dataframe tbody tr th {\n",
       "        vertical-align: top;\n",
       "    }\n",
       "\n",
       "    .dataframe thead th {\n",
       "        text-align: right;\n",
       "    }\n",
       "</style>\n",
       "<table border=\"1\" class=\"dataframe\">\n",
       "  <thead>\n",
       "    <tr style=\"text-align: right;\">\n",
       "      <th></th>\n",
       "      <th>product_id</th>\n",
       "      <th>product_name</th>\n",
       "      <th>aisle_id</th>\n",
       "      <th>department_id</th>\n",
       "      <th>prices</th>\n",
       "    </tr>\n",
       "  </thead>\n",
       "  <tbody>\n",
       "    <tr>\n",
       "      <th>0</th>\n",
       "      <td>1</td>\n",
       "      <td>Chocolate Sandwich Cookies</td>\n",
       "      <td>61</td>\n",
       "      <td>19</td>\n",
       "      <td>5.8</td>\n",
       "    </tr>\n",
       "    <tr>\n",
       "      <th>1</th>\n",
       "      <td>2</td>\n",
       "      <td>All-Seasons Salt</td>\n",
       "      <td>104</td>\n",
       "      <td>13</td>\n",
       "      <td>9.3</td>\n",
       "    </tr>\n",
       "    <tr>\n",
       "      <th>2</th>\n",
       "      <td>3</td>\n",
       "      <td>Robust Golden Unsweetened Oolong Tea</td>\n",
       "      <td>94</td>\n",
       "      <td>7</td>\n",
       "      <td>4.5</td>\n",
       "    </tr>\n",
       "    <tr>\n",
       "      <th>3</th>\n",
       "      <td>4</td>\n",
       "      <td>Smart Ones Classic Favorites Mini Rigatoni Wit...</td>\n",
       "      <td>38</td>\n",
       "      <td>1</td>\n",
       "      <td>10.5</td>\n",
       "    </tr>\n",
       "    <tr>\n",
       "      <th>4</th>\n",
       "      <td>5</td>\n",
       "      <td>Green Chile Anytime Sauce</td>\n",
       "      <td>5</td>\n",
       "      <td>13</td>\n",
       "      <td>4.3</td>\n",
       "    </tr>\n",
       "  </tbody>\n",
       "</table>\n",
       "</div>"
      ],
      "text/plain": [
       "   product_id                                       product_name  aisle_id  \\\n",
       "0           1                         Chocolate Sandwich Cookies        61   \n",
       "1           2                                   All-Seasons Salt       104   \n",
       "2           3               Robust Golden Unsweetened Oolong Tea        94   \n",
       "3           4  Smart Ones Classic Favorites Mini Rigatoni Wit...        38   \n",
       "4           5                          Green Chile Anytime Sauce         5   \n",
       "\n",
       "   department_id  prices  \n",
       "0             19     5.8  \n",
       "1             13     9.3  \n",
       "2              7     4.5  \n",
       "3              1    10.5  \n",
       "4             13     4.3  "
      ]
     },
     "execution_count": 3,
     "metadata": {},
     "output_type": "execute_result"
    }
   ],
   "source": [
    "df_prods = pd.read_csv(cleaned_products_data_file).drop(columns=[\"Unnamed: 0\"])\n",
    "df_prods.head()"
   ]
  },
  {
   "attachments": {},
   "cell_type": "markdown",
   "id": "a1fafabb",
   "metadata": {},
   "source": [
    "Orders products combined"
   ]
  },
  {
   "cell_type": "code",
   "execution_count": 4,
   "id": "bb8ff78b",
   "metadata": {},
   "outputs": [],
   "source": [
    "df_orders_products_combined = pd.read_pickle(orders_products_combined_data_file)"
   ]
  },
  {
   "cell_type": "code",
   "execution_count": 5,
   "id": "a59af35d",
   "metadata": {},
   "outputs": [
    {
     "data": {
      "text/html": [
       "<div>\n",
       "<style scoped>\n",
       "    .dataframe tbody tr th:only-of-type {\n",
       "        vertical-align: middle;\n",
       "    }\n",
       "\n",
       "    .dataframe tbody tr th {\n",
       "        vertical-align: top;\n",
       "    }\n",
       "\n",
       "    .dataframe thead th {\n",
       "        text-align: right;\n",
       "    }\n",
       "</style>\n",
       "<table border=\"1\" class=\"dataframe\">\n",
       "  <thead>\n",
       "    <tr style=\"text-align: right;\">\n",
       "      <th></th>\n",
       "      <th>order_id</th>\n",
       "      <th>user_id</th>\n",
       "      <th>order_number</th>\n",
       "      <th>orders_day_of_week</th>\n",
       "      <th>order_hour_of_day</th>\n",
       "      <th>days_since_prior_order</th>\n",
       "      <th>product_id</th>\n",
       "      <th>add_to_cart_order</th>\n",
       "      <th>reordered</th>\n",
       "    </tr>\n",
       "  </thead>\n",
       "  <tbody>\n",
       "    <tr>\n",
       "      <th>0</th>\n",
       "      <td>2539329</td>\n",
       "      <td>1</td>\n",
       "      <td>1</td>\n",
       "      <td>2</td>\n",
       "      <td>8</td>\n",
       "      <td>0.0</td>\n",
       "      <td>196</td>\n",
       "      <td>1</td>\n",
       "      <td>0</td>\n",
       "    </tr>\n",
       "    <tr>\n",
       "      <th>1</th>\n",
       "      <td>2539329</td>\n",
       "      <td>1</td>\n",
       "      <td>1</td>\n",
       "      <td>2</td>\n",
       "      <td>8</td>\n",
       "      <td>0.0</td>\n",
       "      <td>14084</td>\n",
       "      <td>2</td>\n",
       "      <td>0</td>\n",
       "    </tr>\n",
       "    <tr>\n",
       "      <th>2</th>\n",
       "      <td>2539329</td>\n",
       "      <td>1</td>\n",
       "      <td>1</td>\n",
       "      <td>2</td>\n",
       "      <td>8</td>\n",
       "      <td>0.0</td>\n",
       "      <td>12427</td>\n",
       "      <td>3</td>\n",
       "      <td>0</td>\n",
       "    </tr>\n",
       "    <tr>\n",
       "      <th>3</th>\n",
       "      <td>2539329</td>\n",
       "      <td>1</td>\n",
       "      <td>1</td>\n",
       "      <td>2</td>\n",
       "      <td>8</td>\n",
       "      <td>0.0</td>\n",
       "      <td>26088</td>\n",
       "      <td>4</td>\n",
       "      <td>0</td>\n",
       "    </tr>\n",
       "    <tr>\n",
       "      <th>4</th>\n",
       "      <td>2539329</td>\n",
       "      <td>1</td>\n",
       "      <td>1</td>\n",
       "      <td>2</td>\n",
       "      <td>8</td>\n",
       "      <td>0.0</td>\n",
       "      <td>26405</td>\n",
       "      <td>5</td>\n",
       "      <td>0</td>\n",
       "    </tr>\n",
       "  </tbody>\n",
       "</table>\n",
       "</div>"
      ],
      "text/plain": [
       "   order_id  user_id  order_number  orders_day_of_week  order_hour_of_day  \\\n",
       "0   2539329        1             1                   2                  8   \n",
       "1   2539329        1             1                   2                  8   \n",
       "2   2539329        1             1                   2                  8   \n",
       "3   2539329        1             1                   2                  8   \n",
       "4   2539329        1             1                   2                  8   \n",
       "\n",
       "   days_since_prior_order  product_id  add_to_cart_order  reordered  \n",
       "0                     0.0         196                  1          0  \n",
       "1                     0.0       14084                  2          0  \n",
       "2                     0.0       12427                  3          0  \n",
       "3                     0.0       26088                  4          0  \n",
       "4                     0.0       26405                  5          0  "
      ]
     },
     "execution_count": 5,
     "metadata": {},
     "output_type": "execute_result"
    }
   ],
   "source": [
    "df_orders_products_combined.head()"
   ]
  },
  {
   "attachments": {},
   "cell_type": "markdown",
   "id": "02c0fcc4",
   "metadata": {},
   "source": [
    "Check shape"
   ]
  },
  {
   "cell_type": "code",
   "execution_count": 6,
   "id": "443cc258",
   "metadata": {},
   "outputs": [
    {
     "data": {
      "text/plain": [
       "(32434489, 9)"
      ]
     },
     "execution_count": 6,
     "metadata": {},
     "output_type": "execute_result"
    }
   ],
   "source": [
    "df_orders_products_combined.shape"
   ]
  },
  {
   "attachments": {},
   "cell_type": "markdown",
   "id": "6b66bef8",
   "metadata": {},
   "source": [
    "## Merge Data [#](#table-of-content)"
   ]
  },
  {
   "cell_type": "code",
   "execution_count": 7,
   "id": "e34c2218",
   "metadata": {},
   "outputs": [
    {
     "data": {
      "text/html": [
       "<div>\n",
       "<style scoped>\n",
       "    .dataframe tbody tr th:only-of-type {\n",
       "        vertical-align: middle;\n",
       "    }\n",
       "\n",
       "    .dataframe tbody tr th {\n",
       "        vertical-align: top;\n",
       "    }\n",
       "\n",
       "    .dataframe thead th {\n",
       "        text-align: right;\n",
       "    }\n",
       "</style>\n",
       "<table border=\"1\" class=\"dataframe\">\n",
       "  <thead>\n",
       "    <tr style=\"text-align: right;\">\n",
       "      <th></th>\n",
       "      <th>order_id</th>\n",
       "      <th>user_id</th>\n",
       "      <th>order_number</th>\n",
       "      <th>orders_day_of_week</th>\n",
       "      <th>order_hour_of_day</th>\n",
       "      <th>days_since_prior_order</th>\n",
       "      <th>product_id</th>\n",
       "      <th>add_to_cart_order</th>\n",
       "      <th>reordered</th>\n",
       "      <th>product_name</th>\n",
       "      <th>aisle_id</th>\n",
       "      <th>department_id</th>\n",
       "      <th>prices</th>\n",
       "    </tr>\n",
       "  </thead>\n",
       "  <tbody>\n",
       "    <tr>\n",
       "      <th>0</th>\n",
       "      <td>2539329</td>\n",
       "      <td>1</td>\n",
       "      <td>1</td>\n",
       "      <td>2</td>\n",
       "      <td>8</td>\n",
       "      <td>0.0</td>\n",
       "      <td>196</td>\n",
       "      <td>1</td>\n",
       "      <td>0</td>\n",
       "      <td>Soda</td>\n",
       "      <td>77</td>\n",
       "      <td>7</td>\n",
       "      <td>9.0</td>\n",
       "    </tr>\n",
       "    <tr>\n",
       "      <th>1</th>\n",
       "      <td>2398795</td>\n",
       "      <td>1</td>\n",
       "      <td>2</td>\n",
       "      <td>3</td>\n",
       "      <td>7</td>\n",
       "      <td>15.0</td>\n",
       "      <td>196</td>\n",
       "      <td>1</td>\n",
       "      <td>1</td>\n",
       "      <td>Soda</td>\n",
       "      <td>77</td>\n",
       "      <td>7</td>\n",
       "      <td>9.0</td>\n",
       "    </tr>\n",
       "    <tr>\n",
       "      <th>2</th>\n",
       "      <td>473747</td>\n",
       "      <td>1</td>\n",
       "      <td>3</td>\n",
       "      <td>3</td>\n",
       "      <td>12</td>\n",
       "      <td>21.0</td>\n",
       "      <td>196</td>\n",
       "      <td>1</td>\n",
       "      <td>1</td>\n",
       "      <td>Soda</td>\n",
       "      <td>77</td>\n",
       "      <td>7</td>\n",
       "      <td>9.0</td>\n",
       "    </tr>\n",
       "    <tr>\n",
       "      <th>3</th>\n",
       "      <td>2254736</td>\n",
       "      <td>1</td>\n",
       "      <td>4</td>\n",
       "      <td>4</td>\n",
       "      <td>7</td>\n",
       "      <td>29.0</td>\n",
       "      <td>196</td>\n",
       "      <td>1</td>\n",
       "      <td>1</td>\n",
       "      <td>Soda</td>\n",
       "      <td>77</td>\n",
       "      <td>7</td>\n",
       "      <td>9.0</td>\n",
       "    </tr>\n",
       "    <tr>\n",
       "      <th>4</th>\n",
       "      <td>431534</td>\n",
       "      <td>1</td>\n",
       "      <td>5</td>\n",
       "      <td>4</td>\n",
       "      <td>15</td>\n",
       "      <td>28.0</td>\n",
       "      <td>196</td>\n",
       "      <td>1</td>\n",
       "      <td>1</td>\n",
       "      <td>Soda</td>\n",
       "      <td>77</td>\n",
       "      <td>7</td>\n",
       "      <td>9.0</td>\n",
       "    </tr>\n",
       "  </tbody>\n",
       "</table>\n",
       "</div>"
      ],
      "text/plain": [
       "   order_id  user_id  order_number  orders_day_of_week  order_hour_of_day  \\\n",
       "0   2539329        1             1                   2                  8   \n",
       "1   2398795        1             2                   3                  7   \n",
       "2    473747        1             3                   3                 12   \n",
       "3   2254736        1             4                   4                  7   \n",
       "4    431534        1             5                   4                 15   \n",
       "\n",
       "   days_since_prior_order  product_id  add_to_cart_order  reordered  \\\n",
       "0                     0.0         196                  1          0   \n",
       "1                    15.0         196                  1          1   \n",
       "2                    21.0         196                  1          1   \n",
       "3                    29.0         196                  1          1   \n",
       "4                    28.0         196                  1          1   \n",
       "\n",
       "  product_name  aisle_id  department_id  prices  \n",
       "0         Soda        77              7     9.0  \n",
       "1         Soda        77              7     9.0  \n",
       "2         Soda        77              7     9.0  \n",
       "3         Soda        77              7     9.0  \n",
       "4         Soda        77              7     9.0  "
      ]
     },
     "execution_count": 7,
     "metadata": {},
     "output_type": "execute_result"
    }
   ],
   "source": [
    "df_orders_products_merged = df_orders_products_combined.merge(df_prods, on=\"product_id\")\n",
    "df_orders_products_merged.head()"
   ]
  },
  {
   "attachments": {},
   "cell_type": "markdown",
   "id": "292cd6fd",
   "metadata": {},
   "source": [
    "Check results"
   ]
  },
  {
   "cell_type": "code",
   "execution_count": 8,
   "id": "aa04b71b",
   "metadata": {
    "scrolled": true
   },
   "outputs": [
    {
     "data": {
      "text/plain": [
       "both          32404859\n",
       "left_only        30200\n",
       "right_only          11\n",
       "Name: _merge, dtype: int64"
      ]
     },
     "execution_count": 8,
     "metadata": {},
     "output_type": "execute_result"
    }
   ],
   "source": [
    "df_orders_products_combined.merge(df_prods, on=\"product_id\", how=\"outer\", indicator=True)[\"_merge\"].value_counts()"
   ]
  },
  {
   "cell_type": "markdown",
   "id": "ad85410e",
   "metadata": {},
   "source": [
    ">No full merge"
   ]
  },
  {
   "attachments": {},
   "cell_type": "markdown",
   "id": "8d1bca6c",
   "metadata": {},
   "source": [
    "## Export Data [#](#table-of-content)"
   ]
  },
  {
   "cell_type": "markdown",
   "id": "d76e4368",
   "metadata": {},
   "source": [
    "Benchmark on export speed and file size"
   ]
  },
  {
   "cell_type": "code",
   "execution_count": 9,
   "id": "d4596704",
   "metadata": {},
   "outputs": [
    {
     "name": "stdout",
     "output_type": "stream",
     "text": [
      "csv        - Write Time:  76.61 s | Read Time:  21.25 s | Size: 2528 MB\n",
      "pickle     - Write Time:   4.42 s | Read Time:   1.97 s | Size: 3357 MB\n",
      "parquet    - Write Time:   8.34 s | Read Time:   2.82 s | Size:  461 MB\n",
      "feather    - Write Time:   2.57 s | Read Time:   2.27 s | Size:  928 MB\n"
     ]
    }
   ],
   "source": [
    "#file types\n",
    "file_types = [\"csv\", \"pickle\", \"parquet\", \"feather\"]  # needs to !pip install pyarrow\n",
    "\n",
    "for file_type in file_types:\n",
    "    # construct file name\n",
    "    file = orders_products_merged_data_file.parent / (orders_products_merged_data_file.stem + \".\" + file_type)\n",
    "    \n",
    "    \n",
    "    # measure and execute export function for each file type\n",
    "    start_time = time.time()\n",
    "    getattr(df_orders_products_merged,\"to_\" + file_type)(file)\n",
    "    write_time = time.time() - start_time\n",
    "    \n",
    "    # measure and execute read function for each file type\n",
    "    start_time = time.time()\n",
    "    getattr(pd,\"read_\" + file_type)(file)\n",
    "    read_time = time.time() - start_time\n",
    "    \n",
    "    # get file size\n",
    "    fsize = os.path.getsize(file)\n",
    "    \n",
    "    # summary\n",
    "    print(f\"{file_type:10} - Write Time: {write_time:6.2f} s | Read Time: {read_time:6.2f} s | Size: {fsize/1024/1024:4.0f} MB\")"
   ]
  },
  {
   "attachments": {},
   "cell_type": "markdown",
   "id": "df7f8722",
   "metadata": {},
   "source": [
    ">Conclusion\n",
    "\n",
    ">Best write time: feather (allrounder)<br>\n",
    ">Best read time: pickle (if size doesn't matter and data has to be loaded more often)<br>\n",
    ">Best file size: parquet (if size does matter)<br>\n",
    "\n",
    ">My choice: **pickle**"
   ]
  },
  {
   "cell_type": "code",
   "execution_count": 10,
   "id": "5cb30f50",
   "metadata": {},
   "outputs": [],
   "source": [
    "# save to pickle\n",
    "df_orders_products_merged.to_pickle(orders_products_merged_data_file)"
   ]
  }
 ],
 "metadata": {
  "kernelspec": {
   "display_name": "Python 3 (ipykernel)",
   "language": "python",
   "name": "python3"
  },
  "language_info": {
   "codemirror_mode": {
    "name": "ipython",
    "version": 3
   },
   "file_extension": ".py",
   "mimetype": "text/x-python",
   "name": "python",
   "nbconvert_exporter": "python",
   "pygments_lexer": "ipython3",
   "version": "3.9.13"
  }
 },
 "nbformat": 4,
 "nbformat_minor": 5
}
