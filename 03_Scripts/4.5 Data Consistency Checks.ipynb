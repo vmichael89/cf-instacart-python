{
 "cells": [
  {
   "cell_type": "markdown",
   "id": "e7b94200",
   "metadata": {},
   "source": [
    "# Table of Content\n",
    "- [Imports](#imports)\n",
    "- [Resources](#resources)\n",
    "- [Load Data Sets](#load-data-sets)\n",
    "\t- [Orders (Wrangled)](#orders-(wrangled))\n",
    "\t- [Products](#products)\n",
    "- [Consistency Checks - Products Data](#consistency-checks---products-data)\n",
    "- [Consistency Checks - Oders Data](#consistency-checks---oders-data)\n",
    "- [Export Cleaned Data Sets](#export-cleaned-data-sets)\n"
   ]
  },
  {
   "attachments": {},
   "cell_type": "markdown",
   "id": "8a3e6d0b",
   "metadata": {},
   "source": [
    "## Imports [#](#table-of-content)"
   ]
  },
  {
   "cell_type": "code",
   "execution_count": 1,
   "id": "1332fab0",
   "metadata": {},
   "outputs": [],
   "source": [
    "from pathlib import Path\n",
    "\n",
    "import numpy as np\n",
    "import pandas as pd\n",
    "\n",
    "import da_helper as da"
   ]
  },
  {
   "cell_type": "markdown",
   "id": "269e3fbf",
   "metadata": {},
   "source": [
    "## Resources [#](#table-of-content)"
   ]
  },
  {
   "cell_type": "code",
   "execution_count": 2,
   "id": "ef57b42e",
   "metadata": {},
   "outputs": [],
   "source": [
    "# project folder\n",
    "project_folder = Path(r\"C:\\Users\\vynde\\Desktop\\CareerFoundry Data Analytics\\Data Immersion - 4 Python Fundamentals for Data Analysts\\Instacart_Basket_Analysis\")\n",
    "\n",
    "# resource folders\n",
    "original_data_folder = project_folder / \"02_Data\" / \"Original_Data\"\n",
    "prepared_data_folder = project_folder / \"02_Data\" / \"Prepared_Data\"\n",
    "\n",
    "# input files\n",
    "products_data_file = original_data_folder / \"products.csv\"\n",
    "oders_data_file = prepared_data_folder / \"orders_wrangled.csv\"\n",
    "\n",
    "# output files\n",
    "cleaned_oders_data_file = prepared_data_folder / \"orders_cleaned.csv\"\n",
    "cleaned_products_data_file = prepared_data_folder / \"products_cleaned.csv\""
   ]
  },
  {
   "cell_type": "markdown",
   "id": "b7016e74",
   "metadata": {},
   "source": [
    "## Load Data Sets [#](#table-of-content)"
   ]
  },
  {
   "attachments": {},
   "cell_type": "markdown",
   "id": "94f2caba",
   "metadata": {},
   "source": [
    "##### Orders (Wrangled) [#](#table-of-content)"
   ]
  },
  {
   "cell_type": "code",
   "execution_count": 3,
   "id": "f87371d6",
   "metadata": {},
   "outputs": [
    {
     "data": {
      "text/html": [
       "<div>\n",
       "<style scoped>\n",
       "    .dataframe tbody tr th:only-of-type {\n",
       "        vertical-align: middle;\n",
       "    }\n",
       "\n",
       "    .dataframe tbody tr th {\n",
       "        vertical-align: top;\n",
       "    }\n",
       "\n",
       "    .dataframe thead th {\n",
       "        text-align: right;\n",
       "    }\n",
       "</style>\n",
       "<table border=\"1\" class=\"dataframe\">\n",
       "  <thead>\n",
       "    <tr style=\"text-align: right;\">\n",
       "      <th></th>\n",
       "      <th>Unnamed: 0</th>\n",
       "      <th>order_id</th>\n",
       "      <th>user_id</th>\n",
       "      <th>order_number</th>\n",
       "      <th>orders_day_of_week</th>\n",
       "      <th>order_hour_of_day</th>\n",
       "      <th>days_since_prior_order</th>\n",
       "    </tr>\n",
       "  </thead>\n",
       "  <tbody>\n",
       "    <tr>\n",
       "      <th>0</th>\n",
       "      <td>0</td>\n",
       "      <td>2539329</td>\n",
       "      <td>1</td>\n",
       "      <td>1</td>\n",
       "      <td>2</td>\n",
       "      <td>8</td>\n",
       "      <td>NaN</td>\n",
       "    </tr>\n",
       "    <tr>\n",
       "      <th>1</th>\n",
       "      <td>1</td>\n",
       "      <td>2398795</td>\n",
       "      <td>1</td>\n",
       "      <td>2</td>\n",
       "      <td>3</td>\n",
       "      <td>7</td>\n",
       "      <td>15.0</td>\n",
       "    </tr>\n",
       "    <tr>\n",
       "      <th>2</th>\n",
       "      <td>2</td>\n",
       "      <td>473747</td>\n",
       "      <td>1</td>\n",
       "      <td>3</td>\n",
       "      <td>3</td>\n",
       "      <td>12</td>\n",
       "      <td>21.0</td>\n",
       "    </tr>\n",
       "    <tr>\n",
       "      <th>3</th>\n",
       "      <td>3</td>\n",
       "      <td>2254736</td>\n",
       "      <td>1</td>\n",
       "      <td>4</td>\n",
       "      <td>4</td>\n",
       "      <td>7</td>\n",
       "      <td>29.0</td>\n",
       "    </tr>\n",
       "    <tr>\n",
       "      <th>4</th>\n",
       "      <td>4</td>\n",
       "      <td>431534</td>\n",
       "      <td>1</td>\n",
       "      <td>5</td>\n",
       "      <td>4</td>\n",
       "      <td>15</td>\n",
       "      <td>28.0</td>\n",
       "    </tr>\n",
       "  </tbody>\n",
       "</table>\n",
       "</div>"
      ],
      "text/plain": [
       "   Unnamed: 0  order_id  user_id  order_number  orders_day_of_week  \\\n",
       "0           0   2539329        1             1                   2   \n",
       "1           1   2398795        1             2                   3   \n",
       "2           2    473747        1             3                   3   \n",
       "3           3   2254736        1             4                   4   \n",
       "4           4    431534        1             5                   4   \n",
       "\n",
       "   order_hour_of_day  days_since_prior_order  \n",
       "0                  8                     NaN  \n",
       "1                  7                    15.0  \n",
       "2                 12                    21.0  \n",
       "3                  7                    29.0  \n",
       "4                 15                    28.0  "
      ]
     },
     "execution_count": 3,
     "metadata": {},
     "output_type": "execute_result"
    }
   ],
   "source": [
    "df_ords = pd.read_csv(oders_data_file)\n",
    "df_ords.head()"
   ]
  },
  {
   "attachments": {},
   "cell_type": "markdown",
   "id": "1dee4763",
   "metadata": {},
   "source": [
    "##### Products [#](#table-of-content)"
   ]
  },
  {
   "cell_type": "code",
   "execution_count": 4,
   "id": "209152fd",
   "metadata": {},
   "outputs": [
    {
     "data": {
      "text/html": [
       "<div>\n",
       "<style scoped>\n",
       "    .dataframe tbody tr th:only-of-type {\n",
       "        vertical-align: middle;\n",
       "    }\n",
       "\n",
       "    .dataframe tbody tr th {\n",
       "        vertical-align: top;\n",
       "    }\n",
       "\n",
       "    .dataframe thead th {\n",
       "        text-align: right;\n",
       "    }\n",
       "</style>\n",
       "<table border=\"1\" class=\"dataframe\">\n",
       "  <thead>\n",
       "    <tr style=\"text-align: right;\">\n",
       "      <th></th>\n",
       "      <th>product_id</th>\n",
       "      <th>product_name</th>\n",
       "      <th>aisle_id</th>\n",
       "      <th>department_id</th>\n",
       "      <th>prices</th>\n",
       "    </tr>\n",
       "  </thead>\n",
       "  <tbody>\n",
       "    <tr>\n",
       "      <th>0</th>\n",
       "      <td>1</td>\n",
       "      <td>Chocolate Sandwich Cookies</td>\n",
       "      <td>61</td>\n",
       "      <td>19</td>\n",
       "      <td>5.8</td>\n",
       "    </tr>\n",
       "    <tr>\n",
       "      <th>1</th>\n",
       "      <td>2</td>\n",
       "      <td>All-Seasons Salt</td>\n",
       "      <td>104</td>\n",
       "      <td>13</td>\n",
       "      <td>9.3</td>\n",
       "    </tr>\n",
       "    <tr>\n",
       "      <th>2</th>\n",
       "      <td>3</td>\n",
       "      <td>Robust Golden Unsweetened Oolong Tea</td>\n",
       "      <td>94</td>\n",
       "      <td>7</td>\n",
       "      <td>4.5</td>\n",
       "    </tr>\n",
       "    <tr>\n",
       "      <th>3</th>\n",
       "      <td>4</td>\n",
       "      <td>Smart Ones Classic Favorites Mini Rigatoni Wit...</td>\n",
       "      <td>38</td>\n",
       "      <td>1</td>\n",
       "      <td>10.5</td>\n",
       "    </tr>\n",
       "    <tr>\n",
       "      <th>4</th>\n",
       "      <td>5</td>\n",
       "      <td>Green Chile Anytime Sauce</td>\n",
       "      <td>5</td>\n",
       "      <td>13</td>\n",
       "      <td>4.3</td>\n",
       "    </tr>\n",
       "  </tbody>\n",
       "</table>\n",
       "</div>"
      ],
      "text/plain": [
       "   product_id                                       product_name  aisle_id  \\\n",
       "0           1                         Chocolate Sandwich Cookies        61   \n",
       "1           2                                   All-Seasons Salt       104   \n",
       "2           3               Robust Golden Unsweetened Oolong Tea        94   \n",
       "3           4  Smart Ones Classic Favorites Mini Rigatoni Wit...        38   \n",
       "4           5                          Green Chile Anytime Sauce         5   \n",
       "\n",
       "   department_id  prices  \n",
       "0             19     5.8  \n",
       "1             13     9.3  \n",
       "2              7     4.5  \n",
       "3              1    10.5  \n",
       "4             13     4.3  "
      ]
     },
     "execution_count": 4,
     "metadata": {},
     "output_type": "execute_result"
    }
   ],
   "source": [
    "df_prods = pd.read_csv(products_data_file, index_col=False)\n",
    "df_prods.head()"
   ]
  },
  {
   "attachments": {},
   "cell_type": "markdown",
   "id": "331a7517",
   "metadata": {},
   "source": [
    "## Consistency Checks - Products Data [#](#table-of-content)"
   ]
  },
  {
   "cell_type": "code",
   "execution_count": 5,
   "id": "b223ba03",
   "metadata": {},
   "outputs": [],
   "source": [
    "# create a copy or the original dataframe to work with \n",
    "df_prods_cleaned = df_prods.copy()"
   ]
  },
  {
   "attachments": {},
   "cell_type": "markdown",
   "id": "8f7cfae9",
   "metadata": {},
   "source": [
    "Basic stats"
   ]
  },
  {
   "cell_type": "code",
   "execution_count": 6,
   "id": "73d749d9",
   "metadata": {},
   "outputs": [
    {
     "data": {
      "text/html": [
       "<div>\n",
       "<style scoped>\n",
       "    .dataframe tbody tr th:only-of-type {\n",
       "        vertical-align: middle;\n",
       "    }\n",
       "\n",
       "    .dataframe tbody tr th {\n",
       "        vertical-align: top;\n",
       "    }\n",
       "\n",
       "    .dataframe thead th {\n",
       "        text-align: right;\n",
       "    }\n",
       "</style>\n",
       "<table border=\"1\" class=\"dataframe\">\n",
       "  <thead>\n",
       "    <tr style=\"text-align: right;\">\n",
       "      <th></th>\n",
       "      <th>product_id</th>\n",
       "      <th>aisle_id</th>\n",
       "      <th>department_id</th>\n",
       "      <th>prices</th>\n",
       "    </tr>\n",
       "  </thead>\n",
       "  <tbody>\n",
       "    <tr>\n",
       "      <th>count</th>\n",
       "      <td>49693.000000</td>\n",
       "      <td>49693.000000</td>\n",
       "      <td>49693.000000</td>\n",
       "      <td>49693.000000</td>\n",
       "    </tr>\n",
       "    <tr>\n",
       "      <th>mean</th>\n",
       "      <td>24844.345139</td>\n",
       "      <td>67.770249</td>\n",
       "      <td>11.728433</td>\n",
       "      <td>9.994136</td>\n",
       "    </tr>\n",
       "    <tr>\n",
       "      <th>std</th>\n",
       "      <td>14343.717401</td>\n",
       "      <td>38.316774</td>\n",
       "      <td>5.850282</td>\n",
       "      <td>453.519686</td>\n",
       "    </tr>\n",
       "    <tr>\n",
       "      <th>min</th>\n",
       "      <td>1.000000</td>\n",
       "      <td>1.000000</td>\n",
       "      <td>1.000000</td>\n",
       "      <td>1.000000</td>\n",
       "    </tr>\n",
       "    <tr>\n",
       "      <th>25%</th>\n",
       "      <td>12423.000000</td>\n",
       "      <td>35.000000</td>\n",
       "      <td>7.000000</td>\n",
       "      <td>4.100000</td>\n",
       "    </tr>\n",
       "    <tr>\n",
       "      <th>50%</th>\n",
       "      <td>24845.000000</td>\n",
       "      <td>69.000000</td>\n",
       "      <td>13.000000</td>\n",
       "      <td>7.100000</td>\n",
       "    </tr>\n",
       "    <tr>\n",
       "      <th>75%</th>\n",
       "      <td>37265.000000</td>\n",
       "      <td>100.000000</td>\n",
       "      <td>17.000000</td>\n",
       "      <td>11.200000</td>\n",
       "    </tr>\n",
       "    <tr>\n",
       "      <th>max</th>\n",
       "      <td>49688.000000</td>\n",
       "      <td>134.000000</td>\n",
       "      <td>21.000000</td>\n",
       "      <td>99999.000000</td>\n",
       "    </tr>\n",
       "  </tbody>\n",
       "</table>\n",
       "</div>"
      ],
      "text/plain": [
       "         product_id      aisle_id  department_id        prices\n",
       "count  49693.000000  49693.000000   49693.000000  49693.000000\n",
       "mean   24844.345139     67.770249      11.728433      9.994136\n",
       "std    14343.717401     38.316774       5.850282    453.519686\n",
       "min        1.000000      1.000000       1.000000      1.000000\n",
       "25%    12423.000000     35.000000       7.000000      4.100000\n",
       "50%    24845.000000     69.000000      13.000000      7.100000\n",
       "75%    37265.000000    100.000000      17.000000     11.200000\n",
       "max    49688.000000    134.000000      21.000000  99999.000000"
      ]
     },
     "execution_count": 6,
     "metadata": {},
     "output_type": "execute_result"
    }
   ],
   "source": [
    "df_prods_cleaned.describe()"
   ]
  },
  {
   "attachments": {},
   "cell_type": "markdown",
   "id": "11313ca0",
   "metadata": {},
   "source": [
    "Check for mixed types"
   ]
  },
  {
   "cell_type": "code",
   "execution_count": 7,
   "id": "785dd1d9",
   "metadata": {},
   "outputs": [
    {
     "name": "stdout",
     "output_type": "stream",
     "text": [
      "Columns with mixed types:\n",
      "  product_id: no\n",
      "  product_name: YES\n",
      "  aisle_id: no\n",
      "  department_id: no\n",
      "  prices: no\n"
     ]
    }
   ],
   "source": [
    "da.check_types(df_prods_cleaned)"
   ]
  },
  {
   "attachments": {},
   "cell_type": "markdown",
   "id": "c5d1b7b9",
   "metadata": {},
   "source": [
    "Check for missing values"
   ]
  },
  {
   "cell_type": "code",
   "execution_count": 8,
   "id": "ffaed52b",
   "metadata": {},
   "outputs": [
    {
     "name": "stdout",
     "output_type": "stream",
     "text": [
      "Missing values:\n",
      "  product_id: 0\n",
      "  product_name: 16\n",
      "  aisle_id: 0\n",
      "  department_id: 0\n",
      "  prices: 0\n"
     ]
    }
   ],
   "source": [
    "df_nan = da.check_missing(df_prods_cleaned)"
   ]
  },
  {
   "attachments": {},
   "cell_type": "markdown",
   "id": "dbecfb98",
   "metadata": {},
   "source": [
    "Handle missing values"
   ]
  },
  {
   "cell_type": "code",
   "execution_count": 9,
   "id": "bc90874f",
   "metadata": {},
   "outputs": [],
   "source": [
    "# drop records with nan product_name\n",
    "df_prods_cleaned.dropna(subset=[\"product_name\"], inplace=True)"
   ]
  },
  {
   "attachments": {},
   "cell_type": "markdown",
   "id": "cfc7517e",
   "metadata": {},
   "source": [
    "Check for duplicates"
   ]
  },
  {
   "cell_type": "code",
   "execution_count": 10,
   "id": "36922746",
   "metadata": {
    "scrolled": true
   },
   "outputs": [
    {
     "name": "stdout",
     "output_type": "stream",
     "text": [
      "Number of true duplicates: 5\n",
      "Duplicate values:\n",
      "  product_id: 7\n",
      "  product_name: 5\n",
      "  aisle_id: 49543\n",
      "  department_id: 49656\n",
      "  prices: 49435\n"
     ]
    }
   ],
   "source": [
    "da.check_duplicates(df_prods_cleaned)"
   ]
  },
  {
   "attachments": {},
   "cell_type": "markdown",
   "id": "845861f9",
   "metadata": {},
   "source": [
    "Handle duplicates"
   ]
  },
  {
   "cell_type": "code",
   "execution_count": 11,
   "id": "998232c5",
   "metadata": {},
   "outputs": [
    {
     "name": "stdout",
     "output_type": "stream",
     "text": [
      "Number of true duplicates: 0\n",
      "Duplicate values:\n",
      "  product_id: 2\n",
      "  product_name: 0\n",
      "  aisle_id: 49538\n",
      "  department_id: 49651\n",
      "  prices: 49430\n"
     ]
    }
   ],
   "source": [
    "# drop duplicates\n",
    "df_prods_cleaned.drop_duplicates(inplace=True)\n",
    "da.check_duplicates(df_prods_cleaned)"
   ]
  },
  {
   "attachments": {},
   "cell_type": "markdown",
   "id": "c377dbfc",
   "metadata": {},
   "source": [
    "Inspect duplicated product_id's "
   ]
  },
  {
   "cell_type": "code",
   "execution_count": 12,
   "id": "a08df75d",
   "metadata": {},
   "outputs": [
    {
     "data": {
      "text/plain": [
       "[6800, 26520]"
      ]
     },
     "execution_count": 12,
     "metadata": {},
     "output_type": "execute_result"
    }
   ],
   "source": [
    "# get list of duplicated ids\n",
    "dupl_ids = df_prods_cleaned[df_prods_cleaned.duplicated(subset=[\"product_id\"])].product_id.tolist()\n",
    "dupl_ids"
   ]
  },
  {
   "cell_type": "code",
   "execution_count": 13,
   "id": "f664bb7b",
   "metadata": {},
   "outputs": [
    {
     "data": {
      "text/html": [
       "<div>\n",
       "<style scoped>\n",
       "    .dataframe tbody tr th:only-of-type {\n",
       "        vertical-align: middle;\n",
       "    }\n",
       "\n",
       "    .dataframe tbody tr th {\n",
       "        vertical-align: top;\n",
       "    }\n",
       "\n",
       "    .dataframe thead th {\n",
       "        text-align: right;\n",
       "    }\n",
       "</style>\n",
       "<table border=\"1\" class=\"dataframe\">\n",
       "  <thead>\n",
       "    <tr style=\"text-align: right;\">\n",
       "      <th></th>\n",
       "      <th>product_id</th>\n",
       "      <th>product_name</th>\n",
       "      <th>aisle_id</th>\n",
       "      <th>department_id</th>\n",
       "      <th>prices</th>\n",
       "    </tr>\n",
       "  </thead>\n",
       "  <tbody>\n",
       "    <tr>\n",
       "      <th>6799</th>\n",
       "      <td>6800</td>\n",
       "      <td>Revive Zero Vitamin Water</td>\n",
       "      <td>64</td>\n",
       "      <td>7</td>\n",
       "      <td>6.4</td>\n",
       "    </tr>\n",
       "    <tr>\n",
       "      <th>6800</th>\n",
       "      <td>6800</td>\n",
       "      <td>Sprouted Quinoa Flakes Baby Cereal</td>\n",
       "      <td>92</td>\n",
       "      <td>18</td>\n",
       "      <td>14.0</td>\n",
       "    </tr>\n",
       "    <tr>\n",
       "      <th>26520</th>\n",
       "      <td>26520</td>\n",
       "      <td>Clinical Advanced Solid Ultimate Fresh Anti-Pe...</td>\n",
       "      <td>80</td>\n",
       "      <td>11</td>\n",
       "      <td>10.6</td>\n",
       "    </tr>\n",
       "    <tr>\n",
       "      <th>26521</th>\n",
       "      <td>26520</td>\n",
       "      <td>Cheese Shredded Sharp Cheddar Reduced Fat 2%</td>\n",
       "      <td>21</td>\n",
       "      <td>16</td>\n",
       "      <td>2.9</td>\n",
       "    </tr>\n",
       "  </tbody>\n",
       "</table>\n",
       "</div>"
      ],
      "text/plain": [
       "       product_id                                       product_name  \\\n",
       "6799         6800                          Revive Zero Vitamin Water   \n",
       "6800         6800                 Sprouted Quinoa Flakes Baby Cereal   \n",
       "26520       26520  Clinical Advanced Solid Ultimate Fresh Anti-Pe...   \n",
       "26521       26520       Cheese Shredded Sharp Cheddar Reduced Fat 2%   \n",
       "\n",
       "       aisle_id  department_id  prices  \n",
       "6799         64              7     6.4  \n",
       "6800         92             18    14.0  \n",
       "26520        80             11    10.6  \n",
       "26521        21             16     2.9  "
      ]
     },
     "execution_count": 13,
     "metadata": {},
     "output_type": "execute_result"
    }
   ],
   "source": [
    "# show records\n",
    "df_prods_cleaned[df_prods_cleaned.product_id.isin(dupl_ids)]"
   ]
  },
  {
   "attachments": {},
   "cell_type": "markdown",
   "id": "a187a927",
   "metadata": {},
   "source": [
    ">There are duplicated product_ids which can lead to problems later on. However, product_name is unique"
   ]
  },
  {
   "attachments": {},
   "cell_type": "markdown",
   "id": "71c25f38",
   "metadata": {},
   "source": [
    "## Consistency Checks - Oders Data [#](#table-of-content)"
   ]
  },
  {
   "cell_type": "code",
   "execution_count": 14,
   "id": "c5f58106",
   "metadata": {},
   "outputs": [],
   "source": [
    "# create copy to work with\n",
    "df_ords_cleaned = df_ords.copy()"
   ]
  },
  {
   "attachments": {},
   "cell_type": "markdown",
   "id": "45c057cf",
   "metadata": {},
   "source": [
    "Basic stats"
   ]
  },
  {
   "cell_type": "code",
   "execution_count": 15,
   "id": "e6bbec85",
   "metadata": {
    "scrolled": true
   },
   "outputs": [
    {
     "data": {
      "text/html": [
       "<div>\n",
       "<style scoped>\n",
       "    .dataframe tbody tr th:only-of-type {\n",
       "        vertical-align: middle;\n",
       "    }\n",
       "\n",
       "    .dataframe tbody tr th {\n",
       "        vertical-align: top;\n",
       "    }\n",
       "\n",
       "    .dataframe thead th {\n",
       "        text-align: right;\n",
       "    }\n",
       "</style>\n",
       "<table border=\"1\" class=\"dataframe\">\n",
       "  <thead>\n",
       "    <tr style=\"text-align: right;\">\n",
       "      <th></th>\n",
       "      <th>Unnamed: 0</th>\n",
       "      <th>order_id</th>\n",
       "      <th>user_id</th>\n",
       "      <th>order_number</th>\n",
       "      <th>orders_day_of_week</th>\n",
       "      <th>order_hour_of_day</th>\n",
       "      <th>days_since_prior_order</th>\n",
       "    </tr>\n",
       "  </thead>\n",
       "  <tbody>\n",
       "    <tr>\n",
       "      <th>count</th>\n",
       "      <td>3.421083e+06</td>\n",
       "      <td>3.421083e+06</td>\n",
       "      <td>3.421083e+06</td>\n",
       "      <td>3.421083e+06</td>\n",
       "      <td>3.421083e+06</td>\n",
       "      <td>3.421083e+06</td>\n",
       "      <td>3.214874e+06</td>\n",
       "    </tr>\n",
       "    <tr>\n",
       "      <th>mean</th>\n",
       "      <td>1.710541e+06</td>\n",
       "      <td>1.710542e+06</td>\n",
       "      <td>1.029782e+05</td>\n",
       "      <td>1.715486e+01</td>\n",
       "      <td>2.776219e+00</td>\n",
       "      <td>1.345202e+01</td>\n",
       "      <td>1.111484e+01</td>\n",
       "    </tr>\n",
       "    <tr>\n",
       "      <th>std</th>\n",
       "      <td>9.875817e+05</td>\n",
       "      <td>9.875817e+05</td>\n",
       "      <td>5.953372e+04</td>\n",
       "      <td>1.773316e+01</td>\n",
       "      <td>2.046829e+00</td>\n",
       "      <td>4.226088e+00</td>\n",
       "      <td>9.206737e+00</td>\n",
       "    </tr>\n",
       "    <tr>\n",
       "      <th>min</th>\n",
       "      <td>0.000000e+00</td>\n",
       "      <td>1.000000e+00</td>\n",
       "      <td>1.000000e+00</td>\n",
       "      <td>1.000000e+00</td>\n",
       "      <td>0.000000e+00</td>\n",
       "      <td>0.000000e+00</td>\n",
       "      <td>0.000000e+00</td>\n",
       "    </tr>\n",
       "    <tr>\n",
       "      <th>25%</th>\n",
       "      <td>8.552705e+05</td>\n",
       "      <td>8.552715e+05</td>\n",
       "      <td>5.139400e+04</td>\n",
       "      <td>5.000000e+00</td>\n",
       "      <td>1.000000e+00</td>\n",
       "      <td>1.000000e+01</td>\n",
       "      <td>4.000000e+00</td>\n",
       "    </tr>\n",
       "    <tr>\n",
       "      <th>50%</th>\n",
       "      <td>1.710541e+06</td>\n",
       "      <td>1.710542e+06</td>\n",
       "      <td>1.026890e+05</td>\n",
       "      <td>1.100000e+01</td>\n",
       "      <td>3.000000e+00</td>\n",
       "      <td>1.300000e+01</td>\n",
       "      <td>7.000000e+00</td>\n",
       "    </tr>\n",
       "    <tr>\n",
       "      <th>75%</th>\n",
       "      <td>2.565812e+06</td>\n",
       "      <td>2.565812e+06</td>\n",
       "      <td>1.543850e+05</td>\n",
       "      <td>2.300000e+01</td>\n",
       "      <td>5.000000e+00</td>\n",
       "      <td>1.600000e+01</td>\n",
       "      <td>1.500000e+01</td>\n",
       "    </tr>\n",
       "    <tr>\n",
       "      <th>max</th>\n",
       "      <td>3.421082e+06</td>\n",
       "      <td>3.421083e+06</td>\n",
       "      <td>2.062090e+05</td>\n",
       "      <td>1.000000e+02</td>\n",
       "      <td>6.000000e+00</td>\n",
       "      <td>2.300000e+01</td>\n",
       "      <td>3.000000e+01</td>\n",
       "    </tr>\n",
       "  </tbody>\n",
       "</table>\n",
       "</div>"
      ],
      "text/plain": [
       "         Unnamed: 0      order_id       user_id  order_number  \\\n",
       "count  3.421083e+06  3.421083e+06  3.421083e+06  3.421083e+06   \n",
       "mean   1.710541e+06  1.710542e+06  1.029782e+05  1.715486e+01   \n",
       "std    9.875817e+05  9.875817e+05  5.953372e+04  1.773316e+01   \n",
       "min    0.000000e+00  1.000000e+00  1.000000e+00  1.000000e+00   \n",
       "25%    8.552705e+05  8.552715e+05  5.139400e+04  5.000000e+00   \n",
       "50%    1.710541e+06  1.710542e+06  1.026890e+05  1.100000e+01   \n",
       "75%    2.565812e+06  2.565812e+06  1.543850e+05  2.300000e+01   \n",
       "max    3.421082e+06  3.421083e+06  2.062090e+05  1.000000e+02   \n",
       "\n",
       "       orders_day_of_week  order_hour_of_day  days_since_prior_order  \n",
       "count        3.421083e+06       3.421083e+06            3.214874e+06  \n",
       "mean         2.776219e+00       1.345202e+01            1.111484e+01  \n",
       "std          2.046829e+00       4.226088e+00            9.206737e+00  \n",
       "min          0.000000e+00       0.000000e+00            0.000000e+00  \n",
       "25%          1.000000e+00       1.000000e+01            4.000000e+00  \n",
       "50%          3.000000e+00       1.300000e+01            7.000000e+00  \n",
       "75%          5.000000e+00       1.600000e+01            1.500000e+01  \n",
       "max          6.000000e+00       2.300000e+01            3.000000e+01  "
      ]
     },
     "execution_count": 15,
     "metadata": {},
     "output_type": "execute_result"
    }
   ],
   "source": [
    "df_ords_cleaned.describe()"
   ]
  },
  {
   "attachments": {},
   "cell_type": "markdown",
   "id": "33abc61b",
   "metadata": {},
   "source": [
    ">- order_id: reasonable. <br>\n",
    "  min, max and count fit to each other\n",
    ">- user_id:  ok\n",
    ">- order_number: min 1, max 100, ok\n",
    ">- order_dow: min 0, max 6\n",
    ">- order_hour_of_day: min 0, max 23, ok\n",
    ">- day_since_prior_order: min 0, max 30"
   ]
  },
  {
   "attachments": {},
   "cell_type": "markdown",
   "id": "66cbd918",
   "metadata": {},
   "source": [
    "Check for mixed types"
   ]
  },
  {
   "cell_type": "code",
   "execution_count": 16,
   "id": "73e4ece9",
   "metadata": {},
   "outputs": [
    {
     "data": {
      "text/plain": [
       "Unnamed: 0                  int64\n",
       "order_id                    int64\n",
       "user_id                     int64\n",
       "order_number                int64\n",
       "orders_day_of_week          int64\n",
       "order_hour_of_day           int64\n",
       "days_since_prior_order    float64\n",
       "dtype: object"
      ]
     },
     "execution_count": 16,
     "metadata": {},
     "output_type": "execute_result"
    }
   ],
   "source": [
    "df_ords_cleaned.dtypes"
   ]
  },
  {
   "cell_type": "code",
   "execution_count": 17,
   "id": "3e0eb57d",
   "metadata": {},
   "outputs": [
    {
     "name": "stdout",
     "output_type": "stream",
     "text": [
      "Columns with mixed types:\n",
      "  Unnamed: 0: no\n",
      "  order_id: no\n",
      "  user_id: no\n",
      "  order_number: no\n",
      "  orders_day_of_week: no\n",
      "  order_hour_of_day: no\n",
      "  days_since_prior_order: no\n"
     ]
    }
   ],
   "source": [
    "# checking for mixed data types\n",
    "da.check_types(df_ords_cleaned)"
   ]
  },
  {
   "attachments": {},
   "cell_type": "markdown",
   "id": "2a7c5c89",
   "metadata": {},
   "source": [
    "Check for missing values"
   ]
  },
  {
   "cell_type": "code",
   "execution_count": 18,
   "id": "ec0e856e",
   "metadata": {},
   "outputs": [
    {
     "name": "stdout",
     "output_type": "stream",
     "text": [
      "Missing values:\n",
      "  Unnamed: 0: 0\n",
      "  order_id: 0\n",
      "  user_id: 0\n",
      "  order_number: 0\n",
      "  orders_day_of_week: 0\n",
      "  order_hour_of_day: 0\n",
      "  days_since_prior_order: 206209\n"
     ]
    }
   ],
   "source": [
    "da.check_missing(df_ords_cleaned);"
   ]
  },
  {
   "attachments": {},
   "cell_type": "markdown",
   "id": "bfe1d97d",
   "metadata": {},
   "source": [
    "Handle missing values"
   ]
  },
  {
   "cell_type": "code",
   "execution_count": 19,
   "id": "10c482df",
   "metadata": {},
   "outputs": [
    {
     "data": {
      "text/plain": [
       "206209"
      ]
     },
     "execution_count": 19,
     "metadata": {},
     "output_type": "execute_result"
    }
   ],
   "source": [
    "# total number of users\n",
    "len(set(df_ords_cleaned.user_id)) "
   ]
  },
  {
   "cell_type": "code",
   "execution_count": 20,
   "id": "414114c5",
   "metadata": {},
   "outputs": [],
   "source": [
    "# replace nan values with 0\n",
    "df_ords_cleaned.days_since_prior_order.fillna(0, inplace=True)"
   ]
  },
  {
   "attachments": {},
   "cell_type": "markdown",
   "id": "797dc497",
   "metadata": {},
   "source": [
    ">206209 is exactly the max value of the user_id.\n",
    "I double checked that there aren't any user_ids missing by determining the total number of users.\n",
    "Another check could have been to see if the order_number == 1 because these order don't have any prior order and thus no days_since_prior_order.\n",
    "In this case we can replace these values with 0."
   ]
  },
  {
   "attachments": {},
   "cell_type": "markdown",
   "id": "43af7f12",
   "metadata": {},
   "source": [
    "Check for duplicates"
   ]
  },
  {
   "cell_type": "code",
   "execution_count": 21,
   "id": "abfb6398",
   "metadata": {
    "scrolled": true
   },
   "outputs": [
    {
     "name": "stdout",
     "output_type": "stream",
     "text": [
      "Number of true duplicates: 0\n",
      "Duplicate values:\n",
      "  Unnamed: 0: 0\n",
      "  order_id: 0\n",
      "  user_id: 3214874\n",
      "  order_number: 3420983\n",
      "  orders_day_of_week: 3421076\n",
      "  order_hour_of_day: 3421059\n",
      "  days_since_prior_order: 3421052\n",
      "Number of duplicates for subset ['user_id', 'order_number']: 0\n"
     ]
    }
   ],
   "source": [
    "da.check_duplicates(df_ords_cleaned, subset=[\"user_id\", \"order_number\"])"
   ]
  },
  {
   "attachments": {},
   "cell_type": "markdown",
   "id": "06c23624",
   "metadata": {},
   "source": [
    ">There are no duplicate records.\n",
    "\n",
    ">Neither true duplicates\n",
    "\n",
    ">Nor duplicates for the subset \"user_id\" and \"order_number\""
   ]
  },
  {
   "attachments": {},
   "cell_type": "markdown",
   "id": "61166ed8",
   "metadata": {},
   "source": [
    "## Export Cleaned Data Sets [#](#table-of-content)"
   ]
  },
  {
   "attachments": {},
   "cell_type": "markdown",
   "id": "59dd4533",
   "metadata": {},
   "source": [
    "Cleaned products data"
   ]
  },
  {
   "cell_type": "code",
   "execution_count": 22,
   "id": "925d3563",
   "metadata": {},
   "outputs": [],
   "source": [
    "df_prods_cleaned.to_csv(cleaned_products_data_file)"
   ]
  },
  {
   "attachments": {},
   "cell_type": "markdown",
   "id": "faaa1cd9",
   "metadata": {},
   "source": [
    "Cleaned orders data"
   ]
  },
  {
   "cell_type": "code",
   "execution_count": 23,
   "id": "841e7e56",
   "metadata": {},
   "outputs": [],
   "source": [
    "df_ords_cleaned.to_csv(cleaned_oders_data_file)"
   ]
  }
 ],
 "metadata": {
  "kernelspec": {
   "display_name": "Python 3 (ipykernel)",
   "language": "python",
   "name": "python3"
  },
  "language_info": {
   "codemirror_mode": {
    "name": "ipython",
    "version": 3
   },
   "file_extension": ".py",
   "mimetype": "text/x-python",
   "name": "python",
   "nbconvert_exporter": "python",
   "pygments_lexer": "ipython3",
   "version": "3.9.13"
  }
 },
 "nbformat": 4,
 "nbformat_minor": 5
}
