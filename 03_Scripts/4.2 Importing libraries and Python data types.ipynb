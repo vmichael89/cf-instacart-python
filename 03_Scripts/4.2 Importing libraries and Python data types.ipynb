{
 "cells": [
  {
   "cell_type": "markdown",
   "id": "48b9c430",
   "metadata": {},
   "source": [
    "# Table of Content\n",
    "- [Importing Libraries](#importing-libraries)\n",
    "- [Working with Python Data Types](#working-with-python-data-types)\n"
   ]
  },
  {
   "attachments": {},
   "cell_type": "markdown",
   "id": "74311778",
   "metadata": {},
   "source": [
    "## Importing Libraries [#](#table-of-content)"
   ]
  },
  {
   "cell_type": "code",
   "execution_count": 1,
   "id": "4483b7f9",
   "metadata": {},
   "outputs": [],
   "source": [
    "# imports\n",
    "import os\n",
    "\n",
    "import numpy as np\n",
    "import pandas as pd"
   ]
  },
  {
   "attachments": {},
   "cell_type": "markdown",
   "id": "1a947940",
   "metadata": {},
   "source": [
    "## Working with Python Data Types [#](#table-of-content)"
   ]
  },
  {
   "cell_type": "code",
   "execution_count": 2,
   "id": "9f1a889e",
   "metadata": {},
   "outputs": [
    {
     "name": "stdout",
     "output_type": "stream",
     "text": [
      "10*10=100\n",
      "10+90=100\n",
      "10^2=100\n"
     ]
    }
   ],
   "source": [
    "# 3 different ways to calculate 100\n",
    "x = 10\n",
    "y = 90\n",
    "z = 2\n",
    "\n",
    "print(f\"{x}*{x}={x*x}\")\n",
    "print(f\"{x}+{y}={x+y}\")\n",
    "print(f\"{x}^{z}={x**z}\")"
   ]
  },
  {
   "cell_type": "code",
   "execution_count": 3,
   "id": "5cd2bb81",
   "metadata": {},
   "outputs": [
    {
     "name": "stdout",
     "output_type": "stream",
     "text": [
      "5.0\n"
     ]
    }
   ],
   "source": [
    "# computing with floats\n",
    "float1 = 10.0\n",
    "float2 = 2.0\n",
    "print(float1 / float2)"
   ]
  },
  {
   "cell_type": "code",
   "execution_count": 4,
   "id": "ce0c8271",
   "metadata": {},
   "outputs": [
    {
     "name": "stdout",
     "output_type": "stream",
     "text": [
      "CareerFoundry\n"
     ]
    }
   ],
   "source": [
    "# string concatenation\n",
    "word = \"Career\" + \"Foundry\"\n",
    "print(word)"
   ]
  },
  {
   "cell_type": "code",
   "execution_count": 5,
   "id": "3408b4d3",
   "metadata": {},
   "outputs": [
    {
     "name": "stdout",
     "output_type": "stream",
     "text": [
      "A dog barks. A cat meows.\n"
     ]
    }
   ],
   "source": [
    "# concatenate 2 sentences\n",
    "sentence1 = \"A dog barks.\"\n",
    "sentence2 = \"A cat meows.\"\n",
    "text = sentence1 + \" \" + sentence2\n",
    "print(text)"
   ]
  },
  {
   "cell_type": "code",
   "execution_count": 7,
   "id": "effcb8d0",
   "metadata": {},
   "outputs": [
    {
     "name": "stdout",
     "output_type": "stream",
     "text": [
      "DataAnalyticsDataAnalyticsDataAnalyticsDataAnalyticsDataAnalyticsDataAnalyticsDataAnalyticsDataAnalyticsDataAnalyticsDataAnalyticsDataAnalyticsDataAnalyticsDataAnalyticsDataAnalyticsDataAnalyticsDataAnalyticsDataAnalyticsDataAnalyticsDataAnalyticsDataAnalyticsDataAnalyticsDataAnalyticsDataAnalyticsDataAnalyticsDataAnalyticsDataAnalyticsDataAnalyticsDataAnalyticsDataAnalyticsDataAnalyticsDataAnalyticsDataAnalyticsDataAnalyticsDataAnalyticsDataAnalyticsDataAnalyticsDataAnalyticsDataAnalyticsDataAnalyticsDataAnalyticsDataAnalyticsDataAnalyticsDataAnalyticsDataAnalyticsDataAnalyticsDataAnalyticsDataAnalyticsDataAnalyticsDataAnalyticsDataAnalyticsDataAnalyticsDataAnalyticsDataAnalyticsDataAnalyticsDataAnalyticsDataAnalyticsDataAnalyticsDataAnalyticsDataAnalyticsDataAnalyticsDataAnalyticsDataAnalyticsDataAnalyticsDataAnalyticsDataAnalyticsDataAnalyticsDataAnalyticsDataAnalyticsDataAnalyticsDataAnalyticsDataAnalyticsDataAnalyticsDataAnalyticsDataAnalyticsDataAnalyticsDataAnalyticsDataAnalyticsDataAnalyticsDataAnalyticsDataAnalyticsDataAnalyticsDataAnalyticsDataAnalyticsDataAnalyticsDataAnalyticsDataAnalyticsDataAnalyticsDataAnalyticsDataAnalyticsDataAnalyticsDataAnalyticsDataAnalyticsDataAnalyticsDataAnalyticsDataAnalyticsDataAnalyticsDataAnalyticsDataAnalyticsDataAnalyticsDataAnalytics\n"
     ]
    }
   ],
   "source": [
    "# print a string a hundred times\n",
    "some_string = \"DataAnalytics\"\n",
    "print(some_string*100)"
   ]
  }
 ],
 "metadata": {
  "kernelspec": {
   "display_name": "Python 3 (ipykernel)",
   "language": "python",
   "name": "python3"
  },
  "language_info": {
   "codemirror_mode": {
    "name": "ipython",
    "version": 3
   },
   "file_extension": ".py",
   "mimetype": "text/x-python",
   "name": "python",
   "nbconvert_exporter": "python",
   "pygments_lexer": "ipython3",
   "version": "3.9.13"
  }
 },
 "nbformat": 4,
 "nbformat_minor": 5
}
