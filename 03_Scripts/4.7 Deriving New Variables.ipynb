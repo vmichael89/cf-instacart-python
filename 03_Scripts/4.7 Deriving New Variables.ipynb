{
 "cells": [
  {
   "attachments": {},
   "cell_type": "markdown",
   "id": "b7eec154",
   "metadata": {},
   "source": [
    "# Table of Content\n",
    "- [Imports](#imports)\n",
    "- [Resources](#resources)\n",
    "- [Load Data Sets](#load-data-sets)\n",
    "- [Create Labels](#create-labels)\n",
    "\t- [Price Label](#price-label)\n",
    "\t- [Busiest days label](#busiest-days-label)\n",
    "\t- [Busiest days (plural- 2 busiest days, 2 slowest days, other days)](#busiest-days-(plural--2-busiest-days,-2-slowest-days,-other-days))\n",
    "\t- [Busiest period of day label](#busiest-period-of-day-label)\n",
    "\t- [Busiest hours for different days](#busiest-hours-for-different-days)\n",
    "- [Export Data](#export-data)\n"
   ]
  },
  {
   "cell_type": "markdown",
   "id": "24675a23",
   "metadata": {},
   "source": [
    "## Imports [#](#table-of-content)"
   ]
  },
  {
   "cell_type": "code",
   "execution_count": 2,
   "id": "cb1b3c96",
   "metadata": {},
   "outputs": [],
   "source": [
    "from pathlib import Path\n",
    "\n",
    "import pandas as pd"
   ]
  },
  {
   "attachments": {},
   "cell_type": "markdown",
   "id": "291d64fb",
   "metadata": {},
   "source": [
    "## Resources [#](#table-of-content)"
   ]
  },
  {
   "cell_type": "code",
   "execution_count": 3,
   "id": "43e663b1",
   "metadata": {},
   "outputs": [],
   "source": [
    "# project folder\n",
    "project_folder = Path(r\"C:\\Users\\vynde\\Desktop\\CareerFoundry Data Analytics\\Data Immersion - 4 Python Fundamentals for Data Analysts\\Instacart_Basket_Analysis\")\n",
    "\n",
    "# resource folders\n",
    "prepared_data_folder = project_folder / \"02_Data\" / \"Prepared_Data\"\n",
    "\n",
    "# input files\n",
    "orders_products_merged_data_file = prepared_data_folder / \"orders_products_merged.pkl\"\n",
    "\n",
    "# output files\n",
    "orders_products_merged_updated_data_file = prepared_data_folder / \"orders_products_merged_updated.pkl\""
   ]
  },
  {
   "cell_type": "markdown",
   "id": "0556004d",
   "metadata": {},
   "source": [
    "## Load Data Sets [#](#table-of-content)"
   ]
  },
  {
   "cell_type": "code",
   "execution_count": 4,
   "id": "c00c9998",
   "metadata": {},
   "outputs": [],
   "source": [
    "# load data sets\n",
    "df_ords_prods_merged = pd.read_pickle(orders_products_merged_data_file)"
   ]
  },
  {
   "cell_type": "code",
   "execution_count": 5,
   "id": "376b0be6",
   "metadata": {},
   "outputs": [
    {
     "data": {
      "text/html": [
       "<div>\n",
       "<style scoped>\n",
       "    .dataframe tbody tr th:only-of-type {\n",
       "        vertical-align: middle;\n",
       "    }\n",
       "\n",
       "    .dataframe tbody tr th {\n",
       "        vertical-align: top;\n",
       "    }\n",
       "\n",
       "    .dataframe thead th {\n",
       "        text-align: right;\n",
       "    }\n",
       "</style>\n",
       "<table border=\"1\" class=\"dataframe\">\n",
       "  <thead>\n",
       "    <tr style=\"text-align: right;\">\n",
       "      <th></th>\n",
       "      <th>order_id</th>\n",
       "      <th>user_id</th>\n",
       "      <th>order_number</th>\n",
       "      <th>orders_day_of_week</th>\n",
       "      <th>order_hour_of_day</th>\n",
       "      <th>days_since_prior_order</th>\n",
       "      <th>product_id</th>\n",
       "      <th>add_to_cart_order</th>\n",
       "      <th>reordered</th>\n",
       "      <th>product_name</th>\n",
       "      <th>aisle_id</th>\n",
       "      <th>department_id</th>\n",
       "      <th>prices</th>\n",
       "    </tr>\n",
       "  </thead>\n",
       "  <tbody>\n",
       "    <tr>\n",
       "      <th>0</th>\n",
       "      <td>2539329</td>\n",
       "      <td>1</td>\n",
       "      <td>1</td>\n",
       "      <td>2</td>\n",
       "      <td>8</td>\n",
       "      <td>0.0</td>\n",
       "      <td>196</td>\n",
       "      <td>1</td>\n",
       "      <td>0</td>\n",
       "      <td>Soda</td>\n",
       "      <td>77</td>\n",
       "      <td>7</td>\n",
       "      <td>9.0</td>\n",
       "    </tr>\n",
       "    <tr>\n",
       "      <th>1</th>\n",
       "      <td>2398795</td>\n",
       "      <td>1</td>\n",
       "      <td>2</td>\n",
       "      <td>3</td>\n",
       "      <td>7</td>\n",
       "      <td>15.0</td>\n",
       "      <td>196</td>\n",
       "      <td>1</td>\n",
       "      <td>1</td>\n",
       "      <td>Soda</td>\n",
       "      <td>77</td>\n",
       "      <td>7</td>\n",
       "      <td>9.0</td>\n",
       "    </tr>\n",
       "    <tr>\n",
       "      <th>2</th>\n",
       "      <td>473747</td>\n",
       "      <td>1</td>\n",
       "      <td>3</td>\n",
       "      <td>3</td>\n",
       "      <td>12</td>\n",
       "      <td>21.0</td>\n",
       "      <td>196</td>\n",
       "      <td>1</td>\n",
       "      <td>1</td>\n",
       "      <td>Soda</td>\n",
       "      <td>77</td>\n",
       "      <td>7</td>\n",
       "      <td>9.0</td>\n",
       "    </tr>\n",
       "    <tr>\n",
       "      <th>3</th>\n",
       "      <td>2254736</td>\n",
       "      <td>1</td>\n",
       "      <td>4</td>\n",
       "      <td>4</td>\n",
       "      <td>7</td>\n",
       "      <td>29.0</td>\n",
       "      <td>196</td>\n",
       "      <td>1</td>\n",
       "      <td>1</td>\n",
       "      <td>Soda</td>\n",
       "      <td>77</td>\n",
       "      <td>7</td>\n",
       "      <td>9.0</td>\n",
       "    </tr>\n",
       "    <tr>\n",
       "      <th>4</th>\n",
       "      <td>431534</td>\n",
       "      <td>1</td>\n",
       "      <td>5</td>\n",
       "      <td>4</td>\n",
       "      <td>15</td>\n",
       "      <td>28.0</td>\n",
       "      <td>196</td>\n",
       "      <td>1</td>\n",
       "      <td>1</td>\n",
       "      <td>Soda</td>\n",
       "      <td>77</td>\n",
       "      <td>7</td>\n",
       "      <td>9.0</td>\n",
       "    </tr>\n",
       "  </tbody>\n",
       "</table>\n",
       "</div>"
      ],
      "text/plain": [
       "   order_id  user_id  order_number  orders_day_of_week  order_hour_of_day  \\\n",
       "0   2539329        1             1                   2                  8   \n",
       "1   2398795        1             2                   3                  7   \n",
       "2    473747        1             3                   3                 12   \n",
       "3   2254736        1             4                   4                  7   \n",
       "4    431534        1             5                   4                 15   \n",
       "\n",
       "   days_since_prior_order  product_id  add_to_cart_order  reordered  \\\n",
       "0                     0.0         196                  1          0   \n",
       "1                    15.0         196                  1          1   \n",
       "2                    21.0         196                  1          1   \n",
       "3                    29.0         196                  1          1   \n",
       "4                    28.0         196                  1          1   \n",
       "\n",
       "  product_name  aisle_id  department_id  prices  \n",
       "0         Soda        77              7     9.0  \n",
       "1         Soda        77              7     9.0  \n",
       "2         Soda        77              7     9.0  \n",
       "3         Soda        77              7     9.0  \n",
       "4         Soda        77              7     9.0  "
      ]
     },
     "execution_count": 5,
     "metadata": {},
     "output_type": "execute_result"
    }
   ],
   "source": [
    "df_ords_prods_merged.head()"
   ]
  },
  {
   "attachments": {},
   "cell_type": "markdown",
   "id": "9b937387",
   "metadata": {},
   "source": [
    "## Create Labels [#](#table-of-content)"
   ]
  },
  {
   "attachments": {},
   "cell_type": "markdown",
   "id": "ea59f34d",
   "metadata": {},
   "source": [
    "##### Price Label [#](#table-of-content)"
   ]
  },
  {
   "cell_type": "code",
   "execution_count": 6,
   "id": "803d7a36",
   "metadata": {},
   "outputs": [
    {
     "data": {
      "text/plain": [
       "Mid-range product     21860860\n",
       "Low-range product     10126321\n",
       "High-range product      417678\n",
       "Name: price_label, dtype: int64"
      ]
     },
     "execution_count": 6,
     "metadata": {},
     "output_type": "execute_result"
    }
   ],
   "source": [
    "# add price_label (High-range product: 15<price, Mid-range product: 5<price<=15, Low-range product: price<=5)\n",
    "df_ords_prods_merged[\"price_label\"] = df_ords_prods_merged[\"prices\"].apply(\n",
    "    lambda x: \"High-range product\" if x > 15 else \"Mid-range product\" if x > 5 else \"Low-range product\")\n",
    "# check output\n",
    "df_ords_prods_merged[\"price_label\"].value_counts()"
   ]
  },
  {
   "attachments": {},
   "cell_type": "markdown",
   "id": "766e7348",
   "metadata": {},
   "source": [
    "##### Busiest days label [#](#table-of-content)"
   ]
  },
  {
   "cell_type": "code",
   "execution_count": 7,
   "id": "b4fc7a8a",
   "metadata": {},
   "outputs": [
    {
     "data": {
      "text/plain": [
       "0    6204182\n",
       "1    5660230\n",
       "6    4496490\n",
       "2    4213830\n",
       "5    4205791\n",
       "3    3840534\n",
       "4    3783802\n",
       "Name: orders_day_of_week, dtype: int64"
      ]
     },
     "execution_count": 7,
     "metadata": {},
     "output_type": "execute_result"
    }
   ],
   "source": [
    "# add busiest_days (Busiest day: day with most orders, Least busy: day with least orders, Regulary busy: rest)\n",
    "order_count_per_day = df_ords_prods_merged[\"orders_day_of_week\"].value_counts()\n",
    "order_count_per_day"
   ]
  },
  {
   "cell_type": "code",
   "execution_count": 8,
   "id": "f5f0ee93",
   "metadata": {},
   "outputs": [],
   "source": [
    "# initial version to create busiest_day column; takes way too long with lambda and apply!!\n",
    "this_cell_executes_fast = True\n",
    "if this_cell_executes_fast:\n",
    "    df_ords_prods_merged[\"busiest_day\"] = df_ords_prods_merged[\"orders_day_of_week\"].apply(\n",
    "        lambda x: \"Busiest day\" if x == order_count_per_day.idxmax() else \"Least busy\" if x == order_count_per_day.idxmin() else \"Regulary busy\")"
   ]
  },
  {
   "cell_type": "code",
   "execution_count": 9,
   "id": "6d045fb4",
   "metadata": {},
   "outputs": [],
   "source": [
    "# construct column\n",
    "# set \"Least busy\" for the day \n",
    "df_ords_prods_merged.loc[df_ords_prods_merged[\"orders_day_of_week\"]==order_count_per_day.idxmin(), \"busiest_day\"] = \"Least busy\"\n",
    "df_ords_prods_merged.loc[df_ords_prods_merged[\"orders_day_of_week\"]==order_count_per_day.idxmax(), \"busiest_day\"] = \"Busiest day\"\n",
    "df_ords_prods_merged.loc[(df_ords_prods_merged[\"orders_day_of_week\"]!=order_count_per_day.idxmin()) \n",
    "                         & (df_ords_prods_merged[\"orders_day_of_week\"]!=order_count_per_day.idxmax()), \"busiest_day\"] = \"Regulary busy\""
   ]
  },
  {
   "cell_type": "code",
   "execution_count": 10,
   "id": "d52d3da3",
   "metadata": {
    "scrolled": true
   },
   "outputs": [
    {
     "data": {
      "text/plain": [
       "Regulary busy    22416875\n",
       "Busiest day       6204182\n",
       "Least busy        3783802\n",
       "Name: busiest_day, dtype: int64"
      ]
     },
     "execution_count": 10,
     "metadata": {},
     "output_type": "execute_result"
    }
   ],
   "source": [
    "# check output\n",
    "df_ords_prods_merged.busiest_day.value_counts()"
   ]
  },
  {
   "attachments": {},
   "cell_type": "markdown",
   "id": "d57f0c06",
   "metadata": {},
   "source": [
    "##### Busiest days (plural- 2 busiest days, 2 slowest days, other days) [#](#table-of-content)"
   ]
  },
  {
   "cell_type": "code",
   "execution_count": 11,
   "id": "f192aabd",
   "metadata": {},
   "outputs": [
    {
     "data": {
      "text/plain": [
       "[0, 1, 6, 2, 5, 3, 4]"
      ]
     },
     "execution_count": 11,
     "metadata": {},
     "output_type": "execute_result"
    }
   ],
   "source": [
    "# day indices sorted by value counts\n",
    "day_index_desc_ord_cnt= list(order_count_per_day.index)\n",
    "day_index_desc_ord_cnt"
   ]
  },
  {
   "cell_type": "code",
   "execution_count": 12,
   "id": "60ffe15b",
   "metadata": {},
   "outputs": [],
   "source": [
    "# change values in busiest_day column to \"Busiest days\"  WHERE  day is one of the first two days\n",
    "df_ords_prods_merged.loc[df_ords_prods_merged.orders_day_of_week.isin(day_index_desc_ord_cnt[:2]), \"busiest_day\"] = \"Busiest days\"\n",
    "# change values in busiest_day column to \"Least busy days\"  WHERE  day is one of the last two days\n",
    "df_ords_prods_merged.loc[df_ords_prods_merged.orders_day_of_week.isin(day_index_desc_ord_cnt[-2:]), \"busiest_day\"] = \"Least busy days\"\n",
    "# change values in busiest_day column to \"Regular busy\"  WHERE  day is inbetween\n",
    "# note that this isn't really necessary, values are already set\n",
    "df_ords_prods_merged.loc[df_ords_prods_merged.orders_day_of_week.isin(day_index_desc_ord_cnt[2:-2]), \"busiest_day\"] = \"Regulary busy\""
   ]
  },
  {
   "attachments": {},
   "cell_type": "markdown",
   "id": "329565b1",
   "metadata": {},
   "source": [
    "Check Accuracy for busiest_day column"
   ]
  },
  {
   "cell_type": "code",
   "execution_count": 13,
   "id": "be358873",
   "metadata": {},
   "outputs": [
    {
     "data": {
      "text/plain": [
       "Regulary busy      12916111\n",
       "Busiest days       11864412\n",
       "Least busy days     7624336\n",
       "Name: busiest_day, dtype: int64"
      ]
     },
     "execution_count": 13,
     "metadata": {},
     "output_type": "execute_result"
    }
   ],
   "source": [
    "busiest_day_counts = df_ords_prods_merged.busiest_day.value_counts()\n",
    "busiest_day_counts"
   ]
  },
  {
   "cell_type": "code",
   "execution_count": 14,
   "id": "4441d843",
   "metadata": {
    "scrolled": true
   },
   "outputs": [
    {
     "name": "stdout",
     "output_type": "stream",
     "text": [
      "6    4496490\n",
      "2    4213830\n",
      "5    4205791\n",
      "Name: orders_day_of_week, dtype: int64\n",
      "0    6204182\n",
      "1    5660230\n",
      "Name: orders_day_of_week, dtype: int64\n",
      "3    3840534\n",
      "4    3783802\n",
      "Name: orders_day_of_week, dtype: int64\n"
     ]
    }
   ],
   "source": [
    "# check day indices for the 3 busy types\n",
    "for val in busiest_day_counts.index:\n",
    "    # day value counts for a busy type\n",
    "    day_value_counts = df_ords_prods_merged.orders_day_of_week[df_ords_prods_merged.busiest_day == val].value_counts()\n",
    "    print(day_value_counts)"
   ]
  },
  {
   "attachments": {},
   "cell_type": "markdown",
   "id": "5db4f68f",
   "metadata": {},
   "source": [
    ">Accuracy check conclusion\n",
    "\n",
    ">Can be validated using `day_index_desc_ord_cnt = [0, 1, 6, 2, 5, 3, 4]`<br>\n",
    ">Values are correct."
   ]
  },
  {
   "attachments": {},
   "cell_type": "markdown",
   "id": "c0a2336c",
   "metadata": {},
   "source": [
    "##### Busiest period of day label [#](#table-of-content)"
   ]
  },
  {
   "attachments": {},
   "cell_type": "markdown",
   "id": "8b856063",
   "metadata": {},
   "source": [
    "Rather than by hour, create column with periods of time labeled “Most orders,” “Average orders,” and “Fewest orders.”"
   ]
  },
  {
   "attachments": {},
   "cell_type": "markdown",
   "id": "68365bae",
   "metadata": {},
   "source": [
    "Determine grouping condition"
   ]
  },
  {
   "cell_type": "code",
   "execution_count": 15,
   "id": "d462743a",
   "metadata": {
    "scrolled": true
   },
   "outputs": [
    {
     "data": {
      "text/plain": [
       "<AxesSubplot:>"
      ]
     },
     "execution_count": 15,
     "metadata": {},
     "output_type": "execute_result"
    },
    {
     "data": {
      "image/png": "[encoded data removed]",
      "text/plain": [
       "<Figure size 640x480 with 1 Axes>"
      ]
     },
     "metadata": {},
     "output_type": "display_data"
    }
   ],
   "source": [
    "# histogram for occupation by hour\n",
    "df_ords_prods_merged[\"order_hour_of_day\"].hist(bins=24)"
   ]
  },
  {
   "cell_type": "code",
   "execution_count": 16,
   "id": "3444a4fa",
   "metadata": {},
   "outputs": [],
   "source": [
    "# set ranges for order frequency types by hour\n",
    "ord_freq_by_hour_labels = [\"Most orders\", \"Average orders\", \"Fewest orders\"]\n",
    "cum_pct_limit = [0, 0.2, 0.8, 1]  # first group: 0-20%, 2nd: 20%-80%, 3rd: 80%-100%"
   ]
  },
  {
   "cell_type": "code",
   "execution_count": 17,
   "id": "d2492966",
   "metadata": {},
   "outputs": [
    {
     "data": {
      "text/plain": [
       "10    0.085227\n",
       "11    0.169663\n",
       "14    0.252648\n",
       "15    0.334801\n",
       "13    0.416917\n",
       "12    0.497724\n",
       "16    0.575959\n",
       "9     0.651695\n",
       "17    0.716119\n",
       "8     0.769139\n",
       "18    0.819641\n",
       "19    0.858472\n",
       "20    0.888595\n",
       "7     0.916093\n",
       "21    0.940646\n",
       "22    0.960218\n",
       "23    0.972633\n",
       "6     0.981598\n",
       "0     0.988349\n",
       "1     0.991919\n",
       "5     0.994634\n",
       "2     0.996774\n",
       "4     0.998417\n",
       "3     1.000000\n",
       "Name: order_hour_of_day, dtype: float64"
      ]
     },
     "execution_count": 17,
     "metadata": {},
     "output_type": "execute_result"
    }
   ],
   "source": [
    "# cumulated percentage order counts for each hour (index) sorted by max value counts\n",
    "cum_pct_ord_cnt_by_hour = df_ords_prods_merged.order_hour_of_day.value_counts().cumsum() / df_ords_prods_merged.shape[0]\n",
    "cum_pct_ord_cnt_by_hour"
   ]
  },
  {
   "cell_type": "code",
   "execution_count": 18,
   "id": "fe9711db",
   "metadata": {},
   "outputs": [
    {
     "data": {
      "text/plain": [
       "[Int64Index([10, 11], dtype='int64'),\n",
       " Int64Index([14, 15, 13, 12, 16, 9, 17, 8], dtype='int64'),\n",
       " Int64Index([18, 19, 20, 7, 21, 22, 23, 6, 0, 1, 5, 2, 4, 3], dtype='int64')]"
      ]
     },
     "execution_count": 18,
     "metadata": {},
     "output_type": "execute_result"
    }
   ],
   "source": [
    "hours_sorted = cum_pct_ord_cnt_by_hour.index\n",
    "\n",
    "# list of hour groups for frequency types\n",
    "hour_groups = [hours_sorted[(limit1 < cum_pct_ord_cnt_by_hour) & (cum_pct_ord_cnt_by_hour <= limit2)] \n",
    "               for limit1, limit2 in zip(cum_pct_limit[:-1], cum_pct_limit[1:])]\n",
    "\n",
    "hour_groups"
   ]
  },
  {
   "cell_type": "code",
   "execution_count": 19,
   "id": "66a999b5",
   "metadata": {},
   "outputs": [],
   "source": [
    "# finally create new column with labels according to desired grouping\n",
    "for ord_freq_label, hour_group in zip(ord_freq_by_hour_labels, hour_groups):\n",
    "    df_ords_prods_merged.loc[df_ords_prods_merged.order_hour_of_day.isin(hour_group), \"busiest_period_of_day\"] = ord_freq_label"
   ]
  },
  {
   "attachments": {},
   "cell_type": "markdown",
   "id": "4726ef75",
   "metadata": {},
   "source": [
    "Frequency"
   ]
  },
  {
   "cell_type": "code",
   "execution_count": 20,
   "id": "1d560bb7",
   "metadata": {
    "scrolled": false
   },
   "outputs": [
    {
     "data": {
      "text/plain": [
       "Average orders    19425943\n",
       "Fewest orders      7481016\n",
       "Most orders        5497900\n",
       "Name: busiest_period_of_day, dtype: int64"
      ]
     },
     "execution_count": 20,
     "metadata": {},
     "output_type": "execute_result"
    }
   ],
   "source": [
    "df_ords_prods_merged.busiest_period_of_day.value_counts()"
   ]
  },
  {
   "cell_type": "markdown",
   "id": "7bad380c",
   "metadata": {},
   "source": [
    "Keep in mind that the busiest hours were determined for all hours of the whole week"
   ]
  },
  {
   "attachments": {},
   "cell_type": "markdown",
   "id": "c2213eaf",
   "metadata": {},
   "source": [
    "##### Busiest hours for different days [#](#table-of-content)\n"
   ]
  },
  {
   "cell_type": "markdown",
   "id": "955ecb51",
   "metadata": {},
   "source": [
    "For a more accurate investigation we should consider seperating the days. Occupation by hour might change from day to day"
   ]
  },
  {
   "cell_type": "code",
   "execution_count": 21,
   "id": "3a95de99",
   "metadata": {},
   "outputs": [
    {
     "data": {
      "text/plain": [
       "<AxesSubplot:xlabel='orders_day_of_week,order_hour_of_day'>"
      ]
     },
     "execution_count": 21,
     "metadata": {},
     "output_type": "execute_result"
    },
    {
     "data": {
      "image/png": "[encoded data removed]",
      "text/plain": [
       "<Figure size 640x480 with 1 Axes>"
      ]
     },
     "metadata": {},
     "output_type": "display_data"
    }
   ],
   "source": [
    "# visualization of the hourly order counts for all days\n",
    "df_ords_prods_merged.groupby([\"orders_day_of_week\", \"order_hour_of_day\"]).size().plot()"
   ]
  },
  {
   "attachments": {},
   "cell_type": "markdown",
   "id": "850082eb",
   "metadata": {},
   "source": [
    ">Besides the total order count, the timeline of order counts per hour look very similar across all days <br>\n",
    "\n",
    "Regardless, let us examine the hourly grouping for each day, similar to the previous analysis."
   ]
  },
  {
   "cell_type": "code",
   "execution_count": 22,
   "id": "054ff454",
   "metadata": {},
   "outputs": [
    {
     "name": "stdout",
     "output_type": "stream",
     "text": [
      "[Int64Index([14, 13], dtype='int64'), Int64Index([15, 11, 12, 10, 16, 9, 17, 8], dtype='int64'), Int64Index([18, 19, 20, 21, 7, 22, 23, 0, 6, 1, 2, 5, 3, 4], dtype='int64')]\n",
      "[Int64Index([10, 11], dtype='int64'), Int64Index([9, 12, 13, 14, 15, 16, 17, 8], dtype='int64'), Int64Index([18, 19, 7, 20, 21, 22, 23, 6, 0, 1, 5, 2, 4, 3], dtype='int64')]\n",
      "[Int64Index([10, 11], dtype='int64'), Int64Index([14, 13, 15, 16, 12, 9, 17, 18], dtype='int64'), Int64Index([8, 19, 20, 7, 21, 22, 23, 6, 0, 1, 5, 2, 3, 4], dtype='int64')]\n",
      "[Int64Index([15, 10], dtype='int64'), Int64Index([11, 16, 14, 13, 12, 9, 17, 18], dtype='int64'), Int64Index([8, 19, 20, 7, 21, 22, 23, 6, 0, 1, 5, 2, 4, 3], dtype='int64')]\n",
      "[Int64Index([10, 11], dtype='int64'), Int64Index([15, 16, 14, 13, 12, 9, 17, 18, 8], dtype='int64'), Int64Index([19, 20, 7, 21, 22, 23, 6, 0, 1, 5, 2, 4, 3], dtype='int64')]\n",
      "[Int64Index([10, 11], dtype='int64'), Int64Index([14, 15, 13, 12, 16, 9, 17, 8], dtype='int64'), Int64Index([18, 19, 7, 20, 21, 22, 23, 6, 0, 1, 5, 2, 4, 3], dtype='int64')]\n",
      "[Int64Index([14, 13], dtype='int64'), Int64Index([15, 11, 12, 10, 16, 9, 17, 8], dtype='int64'), Int64Index([18, 19, 20, 7, 21, 22, 23, 6, 0, 1, 2, 5, 4, 3], dtype='int64')]\n"
     ]
    }
   ],
   "source": [
    "for day in range(7):\n",
    "    pointer = df_ords_prods_merged.orders_day_of_week==day\n",
    "    cum_pct_ord_cnt_by_hour = df_ords_prods_merged[pointer].order_hour_of_day.value_counts().cumsum() / df_ords_prods_merged[pointer].shape[0]\n",
    "    hours_sorted = cum_pct_ord_cnt_by_hour.index\n",
    "\n",
    "    hour_groups = [hours_sorted[(limit1 < cum_pct_ord_cnt_by_hour) & (cum_pct_ord_cnt_by_hour <= limit2)] \n",
    "                   for limit1, limit2 in zip(cum_pct_limit[:-1], cum_pct_limit[1:])]\n",
    "    print(hour_groups)"
   ]
  },
  {
   "attachments": {},
   "cell_type": "markdown",
   "id": "ae37487b",
   "metadata": {},
   "source": [
    ">As we can see, hour 10 and 11 are not always the most occupied time periods."
   ]
  },
  {
   "attachments": {},
   "cell_type": "markdown",
   "id": "72e4724b",
   "metadata": {},
   "source": [
    "## Export Data [#](#table-of-content)"
   ]
  },
  {
   "cell_type": "code",
   "execution_count": 23,
   "id": "2d4aa234",
   "metadata": {},
   "outputs": [],
   "source": [
    "# Export results\n",
    "df_ords_prods_merged.to_pickle(orders_products_merged_updated_data_file)"
   ]
  },
  {
   "cell_type": "code",
   "execution_count": 24,
   "id": "611c0234",
   "metadata": {},
   "outputs": [
    {
     "data": {
      "text/plain": [
       "(32404859, 16)"
      ]
     },
     "execution_count": 24,
     "metadata": {},
     "output_type": "execute_result"
    }
   ],
   "source": [
    "df_ords_prods_merged.shape"
   ]
  }
 ],
 "metadata": {
  "kernelspec": {
   "display_name": "Python 3 (ipykernel)",
   "language": "python",
   "name": "python3"
  },
  "language_info": {
   "codemirror_mode": {
    "name": "ipython",
    "version": 3
   },
   "file_extension": ".py",
   "mimetype": "text/x-python",
   "name": "python",
   "nbconvert_exporter": "python",
   "pygments_lexer": "ipython3",
   "version": "3.9.13"
  }
 },
 "nbformat": 4,
 "nbformat_minor": 5
}
